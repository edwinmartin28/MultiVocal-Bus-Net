{
 "cells": [
  {
   "cell_type": "code",
   "execution_count": 1,
   "id": "25474696",
   "metadata": {},
   "outputs": [],
   "source": [
    "# Code to convert images to 640*640\n",
    "from PIL import Image\n",
    "import os\n",
    "\n",
    "# Set the directory containing the images\n",
    "directory = 'KSRTC Dataset'\n",
    "\n",
    "# Set the target size\n",
    "target_size = (640, 640)\n",
    "\n",
    "# Loop through all files in the directory\n",
    "for filename in os.listdir(directory):\n",
    "    if filename.endswith('.jpg') or filename.endswith('.png'): # Add other image formats as needed\n",
    "        # Open the image\n",
    "        image_path = os.path.join(directory, filename)\n",
    "        image = Image.open(image_path)\n",
    "        \n",
    "        # Resize the image\n",
    "        resized_image = image.resize(target_size, Image.LANCZOS)  # Use Image.LANCZOS for antialiasing\n",
    "        \n",
    "        # Save the resized image, overwrite the original\n",
    "        resized_image.save(image_path)\n"
   ]
  },
  {
   "cell_type": "code",
   "execution_count": 2,
   "id": "e0fb6761",
   "metadata": {},
   "outputs": [],
   "source": [
    "# Code to make all images same name\n",
    "import os\n",
    "\n",
    "# Set the directory containing the images\n",
    "directory = 'KSRTC Dataset'\n",
    "\n",
    "# Initialize counter for renaming\n",
    "counter = 1\n",
    "\n",
    "# Loop through all files in the directory\n",
    "for filename in os.listdir(directory):\n",
    "    if filename.endswith('.jpg') or filename.endswith('.png'): # Add other image formats as needed\n",
    "        # Construct new filename\n",
    "        new_filename = f'Img_{counter}.jpg'  # Change extension if necessary\n",
    "        \n",
    "        # Rename the file\n",
    "        os.rename(os.path.join(directory, filename), os.path.join(directory, new_filename))\n",
    "        \n",
    "        # Increment counter\n",
    "        counter += 1\n"
   ]
  },
  {
   "cell_type": "code",
   "execution_count": 3,
   "id": "673574d7",
   "metadata": {},
   "outputs": [
    {
     "name": "stdout",
     "output_type": "stream",
     "text": [
      "Successfully split the dataset into 583 train, 109 test, and 37 validation images.\n"
     ]
    }
   ],
   "source": [
    "import os\n",
    "import random\n",
    "from shutil import copyfile\n",
    "\n",
    "# Define your image dataset directory\n",
    "dataset_dir = \"KSRTC Dataset\"\n",
    "\n",
    "# Specify subfolder names for train, test, and validation sets\n",
    "train_dir = os.path.join(dataset_dir, \"train\")\n",
    "test_dir = os.path.join(dataset_dir, \"test\")\n",
    "val_dir = os.path.join(dataset_dir, \"val\")\n",
    "\n",
    "# Create the subfolders if they don't exist\n",
    "for dir_path in [train_dir, test_dir, val_dir]:\n",
    "    if not os.path.exists(dir_path):\n",
    "        os.makedirs(dir_path)\n",
    "\n",
    "# Get a list of all image files in the dataset directory\n",
    "image_files = [os.path.join(dataset_dir, f) for f in os.listdir(dataset_dir) if f.endswith((\".jpg\", \".jpeg\", \".png\"))]\n",
    "\n",
    "# Randomly shuffle the image files to ensure a representative split\n",
    "random.shuffle(image_files)\n",
    "\n",
    "# Calculate the number of images for each split\n",
    "num_images = len(image_files)\n",
    "num_train_images = int(0.8 * num_images)\n",
    "num_test_images = int(0.15 * num_images)\n",
    "num_val_images = num_images - num_train_images - num_test_images\n",
    "\n",
    "# Copy images to their respective subfolders\n",
    "train_count, test_count, val_count = 0, 0, 0\n",
    "for image_file in image_files:\n",
    "    if train_count < num_train_images:\n",
    "        dest_dir = train_dir\n",
    "        train_count += 1\n",
    "    elif test_count < num_test_images:\n",
    "        dest_dir = test_dir\n",
    "        test_count += 1\n",
    "    else:\n",
    "        dest_dir = val_dir\n",
    "        val_count += 1\n",
    "\n",
    "    # Add error handling for file copying issues\n",
    "    try:\n",
    "        copyfile(image_file, os.path.join(dest_dir, os.path.basename(image_file)))\n",
    "    except Exception as e:\n",
    "        print(f\"Error copying file {image_file}: {e}\")\n",
    "\n",
    "print(f\"Successfully split the dataset into {train_count} train, {test_count} test, and {val_count} validation images.\")"
   ]
  }
 ],
 "metadata": {
  "kernelspec": {
   "display_name": "Python 3 (ipykernel)",
   "language": "python",
   "name": "python3"
  },
  "language_info": {
   "codemirror_mode": {
    "name": "ipython",
    "version": 3
   },
   "file_extension": ".py",
   "mimetype": "text/x-python",
   "name": "python",
   "nbconvert_exporter": "python",
   "pygments_lexer": "ipython3",
   "version": "3.9.12"
  }
 },
 "nbformat": 4,
 "nbformat_minor": 5
}
